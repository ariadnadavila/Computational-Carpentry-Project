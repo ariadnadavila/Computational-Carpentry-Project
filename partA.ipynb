{
 "cells": [
  {
   "cell_type": "markdown",
   "id": "ae6c7a9b",
   "metadata": {},
   "source": [
    "1. We use the read_cvs function of pandas."
   ]
  },
  {
   "cell_type": "code",
   "execution_count": 1,
   "id": "64ca9f0c",
   "metadata": {},
   "outputs": [],
   "source": [
    "import pandas as pd\n",
    "\n",
    "file = pd.read_csv(\"periodic_table.csv\")"
   ]
  },
  {
   "cell_type": "markdown",
   "id": "395fbb93",
   "metadata": {},
   "source": []
  },
  {
   "cell_type": "markdown",
   "id": "8b4461fa",
   "metadata": {},
   "source": [
    "2. By assuming our file (the periodic table) has two columns, we can assign each element symbol to its atomic mass, which is analogous to having a key that corresponds to a value.\n",
    "   zip pairs up items from two lists (here, the lists are elements and atomic masses), which is why it comes handy in this function. \n",
    "   \n",
    "   We tried to do it with \"for element, atomic_number in periodic_table:\" first, but that did not work. This is due to the fact that we actually have to iterate over 2 columns and not 1 column and 1 row. Therefore, we have to use zip."
   ]
  },
  {
   "cell_type": "code",
   "execution_count": 9,
   "id": "ea264f54",
   "metadata": {},
   "outputs": [],
   "source": [
    "element = file['Symbol']\n",
    "atomic_mass = file['AtomicMass']\n",
    "periodic_table_dictionary = dict(zip((element), atomic_mass))"
   ]
  },
  {
   "cell_type": "markdown",
   "id": "35be6f04",
   "metadata": {},
   "source": [
    "3. In order to calculate the molecular weight, we used an iteration through the chemical formula as a string, which would allow us to detect an element and the number of atoms of that element. "
   ]
  },
  {
   "cell_type": "code",
   "execution_count": null,
   "id": "39ad00f6",
   "metadata": {},
   "outputs": [
    {
     "name": "stdout",
     "output_type": "stream",
     "text": [
      "18.015\n",
      "180.156\n"
     ]
    }
   ],
   "source": [
    "def calculate_molecular_mass(formula: str) -> float:\n",
    "    #create an empty string to store the element and count\n",
    "    element = ''\n",
    "    count = ''\n",
    "    total_mass = 0\n",
    "\n",
    "    i = 0\n",
    "    while i < len(formula):\n",
    "        character = formula[i]\n",
    "\n",
    "        if character.isupper():\n",
    "            if element:\n",
    "                atomic_mass = periodic_table_dictionary[element]\n",
    "                multiplier = int(count) if count else 1\n",
    "                total_mass += atomic_mass * multiplier\n",
    "                count = ''\n",
    "            #start a new element\n",
    "            element = character\n",
    "\n",
    "        elif character.islower():\n",
    "            element += character\n",
    "\n",
    "        elif character.isdigit():\n",
    "            count += character\n",
    "\n",
    "        i += 1\n",
    "\n",
    "    #last element in the formula\n",
    "    if element:\n",
    "        atomic_mass = periodic_table_dictionary[element]\n",
    "        multiplier = int(count) if count else 1\n",
    "        total_mass += atomic_mass * multiplier\n",
    "\n",
    "    return total_mass\n",
    "\n",
    "print(calculate_molecular_mass(\"H2O\"))       \n",
    "print(calculate_molecular_mass(\"C6H12O6\"))   "
   ]
  },
  {
   "cell_type": "markdown",
   "id": "4cacf92a",
   "metadata": {},
   "source": [
    "4. If we now have parentheses, we have to implement recursive programming in order to get the correct molecular mass. "
   ]
  },
  {
   "cell_type": "code",
   "execution_count": 11,
   "id": "5c6c2233",
   "metadata": {},
   "outputs": [
    {
     "name": "stdout",
     "output_type": "stream",
     "text": [
      "58.095\n"
     ]
    }
   ],
   "source": [
    "def extended_calculate_molecular_mass(formula: str) -> float:\n",
    "    #create an empty string to store the element and count\n",
    "    element = ''\n",
    "    count = ''\n",
    "    total_mass = 0\n",
    "\n",
    "    i = 0\n",
    "    while i < len(formula):\n",
    "        character = formula[i]\n",
    "\n",
    "        if character.isupper():\n",
    "            if element:\n",
    "                atomic_mass = periodic_table_dictionary[element]\n",
    "                multiplier = int(count) if count else 1\n",
    "                total_mass += atomic_mass * multiplier\n",
    "                count = ''\n",
    "            #start a new element\n",
    "            element = character\n",
    "\n",
    "        elif character.islower():\n",
    "            element += character\n",
    "\n",
    "        elif character.isdigit():\n",
    "            count += character\n",
    "        elif character == '(':\n",
    "            j = i + 1\n",
    "            while formula[j] != ')':\n",
    "                j += 1\n",
    "            subformula = formula[i+1:j]\n",
    "            sub_mass = calculate_molecular_mass(subformula)\n",
    "            i = j + 1\n",
    "            sub_count = ''\n",
    "            while i < len(formula) and formula[i].isdigit():\n",
    "                sub_count += formula[i]\n",
    "                i += 1\n",
    "            multiplier = int(sub_count) if sub_count else 1\n",
    "            total_mass += sub_mass * multiplier\n",
    "            continue\n",
    "\n",
    "        i += 1\n",
    "\n",
    "    #last element in the formula\n",
    "    if element:\n",
    "        atomic_mass = periodic_table_dictionary[element]\n",
    "        multiplier = int(count) if count else 1\n",
    "        total_mass += atomic_mass * multiplier\n",
    "\n",
    "    return total_mass\n",
    "\n",
    "print(calculate_molecular_mass(\"Ca(OH)2\"))       "
   ]
  },
  {
   "cell_type": "markdown",
   "id": "30a6c96e",
   "metadata": {},
   "source": [
    "5. For coordinated water molecules, we can now add the mass of the respective water molecules that are present in the coordination complex. "
   ]
  },
  {
   "cell_type": "code",
   "execution_count": 12,
   "id": "2283abdc",
   "metadata": {},
   "outputs": [
    {
     "name": "stdout",
     "output_type": "stream",
     "text": [
      "30.026\n"
     ]
    }
   ],
   "source": [
    "def coordinated_water_molecular_mass(formula):\n",
    "    i = 0\n",
    "    if formula[i] != '.':\n",
    "        i += 1\n",
    "        main_formula = formula[:i]\n",
    "        hydration_part = formula[i+1:]\n",
    "        hydration_count = ''\n",
    "        j = 0\n",
    "    while j < len(hydration_part) and hydration_part[j].isdigit():\n",
    "        hydration_count += hydration_part[j]\n",
    "        j += 1\n",
    "    hydration_count = int(hydration_count) if hydration_count else 1\n",
    "    main_mass = extended_calculate_molecular_mass(main_formula)\n",
    "    water_mass = periodic_table_dictionary['H'] * 2 + periodic_table_dictionary['O']\n",
    "    total_mass = main_mass + (water_mass * hydration_count)\n",
    "    return total_mass\n",
    "\n",
    "print(coordinated_water_molecular_mass(\"CuSO4.5H2O\"))  "
   ]
  },
  {
   "cell_type": "markdown",
   "id": "136d740b",
   "metadata": {},
   "source": []
  }
 ],
 "metadata": {
  "kernelspec": {
   "display_name": "base",
   "language": "python",
   "name": "python3"
  },
  "language_info": {
   "codemirror_mode": {
    "name": "ipython",
    "version": 3
   },
   "file_extension": ".py",
   "mimetype": "text/x-python",
   "name": "python",
   "nbconvert_exporter": "python",
   "pygments_lexer": "ipython3",
   "version": "3.13.5"
  }
 },
 "nbformat": 4,
 "nbformat_minor": 5
}
