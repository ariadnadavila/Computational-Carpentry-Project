{
 "cells": [
  {
   "cell_type": "markdown",
   "id": "431164aa",
   "metadata": {},
   "source": [
    "# Introduction\n",
    "\n",
    "**Team:** Ivana Josipovic, Adrian Miramontes, Ariadna Davila  \n",
    "**Date:** 26 September 2025\n",
    "\n",
    "This notebook presents the Computational Carpentry project for Group Q. The project is organized into three blocks. For each block:\n",
    "1. The original prompt from Moodle is shown in bold.\n",
    "2. Explanations and reflections are provided in markdown cells.\n",
    "3. The corresponding Python code is included in code cells.\n",
    "4. For functions where we originally made mistakes, we included the failed attempts between two horizontal lines and explained why they didn’t work.\n",
    "\n",
    "This structure follows the principles of literate programming, where code and commentary are combined to explain both the process and the reasoning behind each step. We also included failed or exploratory attempts and explained why they didn’t work."
   ]
  },
  {
   "cell_type": "markdown",
   "id": "4a73ebfa",
   "metadata": {},
   "source": [
    "# Part A - Data structures and functions\n",
    "\n",
    "This section consists in loading a dataset of elements from the periodic table, then building a dictionary for fast lookups, and finally writung functions to calculate molecular masses.\n",
    "\n",
    "### 1. Load the “periodic_table.csv” data file using pandas\n",
    "\n",
    " First, we import the libraries needed for computation and plotting andload data from disk to begin analysis. We use the read_cvs function of pandas."
   ]
  },
  {
   "cell_type": "code",
   "execution_count": 26,
   "id": "75b6a7a4",
   "metadata": {},
   "outputs": [],
   "source": [
    "import pandas as pd\n",
    "\n",
    "file = pd.read_csv(\"periodic_table.csv\")"
   ]
  },
  {
   "cell_type": "markdown",
   "id": "e8c12903",
   "metadata": {},
   "source": [
    "### 2. Create a python dictionary where the keys are elements symbol and the values are atomic masses\n",
    "\n",
    "By assuming our file (the periodic table) has two columns, we can assign each element symbol to its atomic mass, which is analogous to creating a dictionary having a key that corresponds to a value where: \n",
    "- Keys = element symbols (e.g., `'H'`, `'O'`, `'Na'`)\n",
    "- Values = their atomic masses.\n",
    "\n",
    "We tried to do it with \"for element, atomic_number in periodic_table:\" first, but that did not work. This is due to the fact that we actually have to iterate over 2 columns and not 1 column and 1 row. Therefore, we have to use zip.\n"
   ]
  },
  {
   "cell_type": "code",
   "execution_count": 27,
   "id": "5fef1327",
   "metadata": {},
   "outputs": [],
   "source": [
    "element = file['Symbol']\n",
    "atomic_mass = file['AtomicMass']\n",
    "periodic_table_dictionary = dict(zip((element), atomic_mass))"
   ]
  },
  {
   "cell_type": "markdown",
   "id": "4b634f16",
   "metadata": {},
   "source": [
    "### 3. Write a function that takes chemical formulas like “H2O” and “C6H12O6” and return their molecular mass\n",
    "\n",
    "In order to calculate the molecular weight, we used an iteration through the chemical formula as a string, which would allow us to detect an element and the number of atoms of that element. This function consists in the following steps: \n",
    "\n",
    "1. Initialize empty strings for `element` and `count`, and set `total_mass = 0`. \n",
    "\n",
    "2. Loop through the formula one character at a time.  \n",
    "\n",
    "3. If the character is uppercase, that means a new element begins: \n",
    "\n",
    "   - Add the previous element’s contribution (`atomic mass × count`) to `total_mass`.  \n",
    "   - Reset `count` and start the new element.  \n",
    "\n",
    "4. If the character is **lowercase**, append it to the current element symbol (e.g., `\"Cl\"`). \n",
    "\n",
    "5. If the character is a **digit**, append it to `count` to record how many atoms of that element there are.  \n",
    "\n",
    "6. Continue until all characters have been processed.  \n",
    "\n",
    "7. After the loop, add the last element’s contribution to `total_mass` and return the result.  \n",
    "\n",
    "This is our first version, which works for simple formulas like `H2O` and `C6H12O6`. "
   ]
  },
  {
   "cell_type": "code",
   "execution_count": 28,
   "id": "dff00f4d",
   "metadata": {},
   "outputs": [
    {
     "name": "stdout",
     "output_type": "stream",
     "text": [
      "Molar mass of H2O: 18.02\n",
      "Molar mass of C6H12O6: 180.16\n"
     ]
    }
   ],
   "source": [
    "def calculate_molecular_mass(formula: str) -> float:\n",
    "    #create an empty string to store the element and count\n",
    "    element = ''\n",
    "    count = ''\n",
    "    total_mass = 0\n",
    "\n",
    "    i = 0\n",
    "    while i < len(formula):\n",
    "        character = formula[i]\n",
    "\n",
    "        if character.isupper():\n",
    "            if element:\n",
    "                atomic_mass = periodic_table_dictionary[element]\n",
    "                multiplier = int(count) if count else 1\n",
    "                total_mass += atomic_mass * multiplier\n",
    "                count = ''\n",
    "            #start a new element\n",
    "            element = character\n",
    "\n",
    "        elif character.islower():\n",
    "            element += character\n",
    "\n",
    "        elif character.isdigit():\n",
    "            count += character\n",
    "\n",
    "        i += 1\n",
    "\n",
    "    #last element in the formula\n",
    "    if element:\n",
    "        atomic_mass = periodic_table_dictionary[element]\n",
    "        multiplier = int(count) if count else 1\n",
    "        total_mass += atomic_mass * multiplier\n",
    "\n",
    "    return total_mass\n",
    "\n",
    "print(f\"Molar mass of H2O: {calculate_molecular_mass('H2O'):.2f}\")\n",
    "print(f\"Molar mass of C6H12O6: {calculate_molecular_mass('C6H12O6'):.2f}\") "
   ]
  },
  {
   "cell_type": "markdown",
   "id": "7ebd4c88",
   "metadata": {},
   "source": [
    "### 4. Extend the molecular mass calculator to handle parentheses in formulas\n",
    "\n",
    "Some chemical formulas include parentheses to indicate groups of atoms, such as `(OH)2`. Our earlier function cannot handle this.\n",
    "\n",
    "Here, we have to implement recursive programming in order to get the correct molecular mass. This implies that we have to call the function within itself. In this case, when we see parentheses, the function calls itself to compute the mass of the sub-formula inside, then multiplies by the number outside.  \n",
    "\n",
    "This way, the function correctly interprets more complex formulas like `Ca(OH)2` or `Al2(SO4)3`."
   ]
  },
  {
   "cell_type": "code",
   "execution_count": 29,
   "id": "d3514242",
   "metadata": {},
   "outputs": [
    {
     "name": "stdout",
     "output_type": "stream",
     "text": [
      "Molar mass of Ca(OH)2: 58.09 g/mol\n",
      "Molar mass of Al2(SO4)3: 773.99 g/mol\n"
     ]
    }
   ],
   "source": [
    "def extended_calculate_molecular_mass(formula: str) -> float:\n",
    "    #create an empty string to store the element and count\n",
    "    element = ''\n",
    "    count = ''\n",
    "    total_mass = 0\n",
    "\n",
    "    i = 0\n",
    "    while i < len(formula):\n",
    "        character = formula[i]\n",
    "\n",
    "        if character.isupper():\n",
    "            if element:\n",
    "                atomic_mass = periodic_table_dictionary[element]\n",
    "                multiplier = int(count) if count else 1\n",
    "                total_mass += atomic_mass * multiplier\n",
    "                count = ''\n",
    "            #start a new element\n",
    "            element = character\n",
    "\n",
    "        elif character.islower():\n",
    "            element += character\n",
    "\n",
    "        elif character.isdigit():\n",
    "            count += character\n",
    "        elif character == '(':\n",
    "            j = i + 1\n",
    "            while formula[j] != ')':\n",
    "                j += 1\n",
    "            subformula = formula[i+1:j]\n",
    "            sub_mass = calculate_molecular_mass(subformula)\n",
    "            i = j + 1\n",
    "            sub_count = ''\n",
    "            while i < len(formula) and formula[i].isdigit():\n",
    "                sub_count += formula[i]\n",
    "                i += 1\n",
    "            multiplier = int(sub_count) if sub_count else 1\n",
    "            total_mass += sub_mass * multiplier\n",
    "            continue\n",
    "\n",
    "        i += 1\n",
    "\n",
    "    #last element in the formula\n",
    "    if element:\n",
    "        atomic_mass = periodic_table_dictionary[element]\n",
    "        multiplier = int(count) if count else 1\n",
    "        total_mass += atomic_mass * multiplier\n",
    "\n",
    "    return total_mass\n",
    "\n",
    "print(f\"Molar mass of Ca(OH)2: {calculate_molecular_mass('Ca(OH)2'):.2f} g/mol\")\n",
    "print(f\"Molar mass of Al2(SO4)3: {calculate_molecular_mass('Al2(SO4)3'):.2f} g/mol\")"
   ]
  },
  {
   "cell_type": "markdown",
   "id": "442472b0",
   "metadata": {},
   "source": [
    "### 5. Extend the molecular mass calculator so it can handle coordinated (hydration) water\n",
    "\n",
    "Some compounds, especially salts, crystallize with a fixed number of water molecules attached. For example, copper(II) sulfate pentahydrate is written as `CuSO4·5H2O`. The dot (`·`) indicates that 5 water molecules are coordinated with each unit of CuSO₄. Once again, our previous function cannot handle the case\n",
    "\n",
    "To extend our function, we need to split the input formula at the dot, extract the number of water molecules, and add their mass to the main compound's mass. Our function `coordinated_water_molecular_mass(formula)` handles this case and can be summarised as follows:\n",
    "\n",
    "1. Split the formula into two parts:  \n",
    "   - the main compound before the dot (e.g., `CuSO4`)  \n",
    "   - the hydration part after the dot (e.g., `5H2O`)  \n",
    "\n",
    "2. Extract the number of water molecules (e.g., `5`).  \n",
    "   - If no number is given, assume `1`.  \n",
    "\n",
    "3. Calculate the mass of the main compound using the extended function.  \n",
    "\n",
    "4. Calculate the mass of water (`H2O`) once, and multiply it by the hydration count.  \n",
    "\n",
    "5. Add them together to get the total molar mass of the hydrated compound.  \n",
    "\n",
    "For coordinated water molecules, we can now add the mass of the respective water molecules that are present in the coordination complex. "
   ]
  },
  {
   "cell_type": "code",
   "execution_count": 30,
   "id": "8c25f090",
   "metadata": {},
   "outputs": [
    {
     "name": "stdout",
     "output_type": "stream",
     "text": [
      "Molar mass of CuSO4·5H2O: 30.03 g/mol\n"
     ]
    }
   ],
   "source": [
    "def coordinated_water_molecular_mass(formula):\n",
    "    i = 0\n",
    "    if formula[i] != '.':\n",
    "        i += 1\n",
    "        main_formula = formula[:i]\n",
    "        hydration_part = formula[i+1:]\n",
    "        hydration_count = ''\n",
    "        j = 0\n",
    "    while j < len(hydration_part) and hydration_part[j].isdigit():\n",
    "        hydration_count += hydration_part[j]\n",
    "        j += 1\n",
    "    hydration_count = int(hydration_count) if hydration_count else 1\n",
    "    main_mass = extended_calculate_molecular_mass(main_formula)\n",
    "    water_mass = periodic_table_dictionary['H'] * 2 + periodic_table_dictionary['O']\n",
    "    total_mass = main_mass + (water_mass * hydration_count)\n",
    "    return total_mass\n",
    "\n",
    "print(f\"Molar mass of CuSO4·5H2O: {coordinated_water_molecular_mass('CuSO4.5H2O'):.2f} g/mol\")"
   ]
  },
  {
   "cell_type": "markdown",
   "id": "eafc9548",
   "metadata": {},
   "source": [
    "# Part B - Stoichiometry and reaction balancing\n",
    "\n",
    "### 1. Reaction Balancer Function\n",
    "\n",
    "**a. Write a function balance_reaction(reactants, products) that:**\n",
    "\n",
    "- **Takes as input:**\n",
    "    - **reactants: list of chemical formulas for reactants (e.g., [“H2”, “O2”])**\n",
    "    - **products: list of chemical formulas for products (e.g., [“H2O”])**\n",
    "\n",
    "- **Returns: a list of stoichiometric coefficients that balances the reaction.**\n",
    "\n",
    "- **You don’t need to consider parenthesis or “.” in the formula for this problem** \n",
    "\n",
    "- **Hint: You can represent the reaction as a system of linear equations based on the number of atoms of each element. Look up the term Singular Value Decomposition, you can use this link.**\n",
    "\n",
    "- **Test it for 3 reactions of your choice.**"
   ]
  },
  {
   "cell_type": "markdown",
   "id": "6bf57648",
   "metadata": {},
   "source": [
    "Our approach in constructing this function consists in the following steps:\n",
    "\n",
    "1. Parse each chemical formula into a mapping `{element: count}` using a regular expression (e.g., `\"H2O\" → {\"H\": 2, \"O\": 1}`).  \n",
    "2. Build a matrix \\(A\\) with one row per element and one column per species (reactants first, products after).  \n",
    "   - For reactants, we put +counts; for products, −counts.  \n",
    "   - A balanced reaction satisfies \\(A \\cdot x = 0\\), where \\(x\\) is the vector of stoichiometric coefficients.\n",
    "3. Find a non‑trivial vector in the null space of \\(A\\) via singular Value Decomposition (SVD). The last right-singular vector (row of \\(V^T\\)) corresponds to the smallest singular value and approximates the null space direction.\n",
    "\n",
    "4. Convert real coefficients to minimal integers by scaling:\n",
    "   - Normalize, convert to fractions, take the least common multiple (LCM) of denominators, and reduce by the greatest common divisor (GCD).\n",
    "5. Safety checks:\n",
    "   - If an element appears on only one side → impossible.\n",
    "   - If any resulting integer coefficient is non‑positive → reject as infeasible.\n",
    "6. Print the balanced equation."
   ]
  },
  {
   "cell_type": "code",
   "execution_count": 3,
   "id": "36fe70c3",
   "metadata": {},
   "outputs": [],
   "source": [
    "from __future__ import annotations\n",
    "import re\n",
    "import numpy as np\n",
    "from fractions import Fraction\n",
    "from math import gcd\n",
    "from functools import reduce"
   ]
  },
  {
   "cell_type": "markdown",
   "id": "b58dd8c7",
   "metadata": {},
   "source": [
    "We need a function that reads a chemical formula (e.g. `H2O`) and returns the count of each atom. This helps us build the matrix of equations later. "
   ]
  },
  {
   "cell_type": "code",
   "execution_count": 4,
   "id": "d19d38db",
   "metadata": {},
   "outputs": [
    {
     "name": "stdout",
     "output_type": "stream",
     "text": [
      "parse_formula('H2O') = {'H': 2, 'O': 1}\n"
     ]
    }
   ],
   "source": [
    "# Regular expression to extract elements and counts\n",
    "element_re = re.compile(r\"([A-Z][a-z]?)(\\d*)\")\n",
    "\n",
    "def parse_formula(formula: str) -> dict:\n",
    "    counts = {}\n",
    "    for (elem, num) in element_re.findall(formula):\n",
    "        n = int(num) if num else 1\n",
    "        counts[elem] = counts.get(elem, 0) + n\n",
    "    if not counts:\n",
    "        raise ValueError(f\"Could not parse formula: {formula}\")\n",
    "    return counts\n",
    "\n",
    "print(\"parse_formula('H2O') =\", parse_formula(\"H2O\"))"
   ]
  },
  {
   "cell_type": "markdown",
   "id": "0c36fe9c",
   "metadata": {},
   "source": [
    "\n",
    "Since we will need to scale fractions to integers, we will use the function lcm(). This function finds the least common multiple of two integers. For example, lcm(3,4,12) is 12 a more complex example is where the numbers are not multiples of each other. For example, lcm(3,5, 7, and 11). "
   ]
  },
  {
   "cell_type": "code",
   "execution_count": 7,
   "id": "0a90431d",
   "metadata": {},
   "outputs": [
    {
     "name": "stdout",
     "output_type": "stream",
     "text": [
      "least common multiple of 2, 3, 4: 12\n",
      "least common multiple of 3, 5, 7, 11: 1155\n"
     ]
    }
   ],
   "source": [
    "def lcm(a, b):\n",
    "    return a * b // gcd(a, b)\n",
    "\n",
    "def lcm_many(ints):\n",
    "    return reduce(lcm, ints, 1)\n",
    "\n",
    "print(\"least common multiple of 2, 3, 4:\", lcm_many([2, 3, 4]))       # → 12\n",
    "print(\"least common multiple of 3, 5, 7, 11:\", lcm_many([3, 5, 7, 11]))   # → 1155"
   ]
  },
  {
   "cell_type": "markdown",
   "id": "ea90e6ad",
   "metadata": {},
   "source": [
    "the function `_elements_by_side` has as an input the reactants and products of a reaction and returns two sets:\n",
    "\n",
    "`rset`: elements present in at least one reactant\n",
    "`pset`: elements present in at least one product\n",
    "\n",
    "For example if we were to do the following reaction: C3H7OH + O2 -> CO2 + H2O, there would only be three element in the reactants and three element in the products: `{H}` `{C}` and `{O}`."
   ]
  },
  {
   "cell_type": "code",
   "execution_count": 14,
   "id": "8b93d01f",
   "metadata": {},
   "outputs": [
    {
     "name": "stdout",
     "output_type": "stream",
     "text": [
      "Reactant elements: {'O', 'H', 'C'}\n",
      "Product elements : {'O', 'H', 'C'}\n"
     ]
    }
   ],
   "source": [
    "def _elements_by_side(reactants, products):\n",
    "    rset = set()\n",
    "    pset = set()\n",
    "    for f in reactants:\n",
    "        rset.update(parse_formula(f).keys())\n",
    "    for f in products:\n",
    "        pset.update(parse_formula(f).keys())\n",
    "    return rset, pset\n",
    "\n",
    "rset, pset = _elements_by_side([\"C3H7OH\", \"O2\"], [\"CO2\", \"H2O\"])\n",
    "print(\"Reactant elements:\", rset)\n",
    "print(\"Product elements :\", pset)"
   ]
  },
  {
   "cell_type": "markdown",
   "id": "bd22e36e",
   "metadata": {},
   "source": [
    "However, if there were a product that was not in the reactants, then the reaction is not possible. By substracting rset from pset we can see if there are any elements in the products that are not in the reactants. This makes an early impossibility easy to spot. For example imagine the impossible reaction: H2+O2 -> NH3.  "
   ]
  },
  {
   "cell_type": "code",
   "execution_count": 12,
   "id": "79d76218",
   "metadata": {},
   "outputs": [
    {
     "name": "stdout",
     "output_type": "stream",
     "text": [
      "Reactant elements: {'O', 'H'}\n",
      "Product elements : {'N', 'H'}\n",
      "Only in products: {'N'}\n"
     ]
    }
   ],
   "source": [
    "rset, pset = _elements_by_side([\"H2\", \"O2\"], [\"NH3\"])\n",
    "print(\"Reactant elements:\", rset)\n",
    "print(\"Product elements :\", pset)\n",
    "print(\"Only in products:\", pset - rset)"
   ]
  },
  {
   "cell_type": "markdown",
   "id": "921f32d3",
   "metadata": {},
   "source": [
    "The following function tskes lists of chemical formulas (reactants and products) and returns a list of integer stoichiometric coefficients that balance the reaction. Our approach was the following\n",
    "\n",
    "1. Extracting the sets of elements from reactants and products. If an element exists only in reactants or only in products, balancing is impossible.\n",
    "\n",
    "2. Building the element matrix. Rows = elements, Columns = species (reactants first, then products). Reactant entries are positive, product entries are negative. A balanced reaction satisfies A · x = 0, where x is the coefficient vector.\n",
    "\n",
    "3. Finding the null space using Singular Value Decomposition (SVD). \n",
    "\n",
    "4. Scaling to minimal integers. The vector v has to be normalized so the smallest nonzero entry is 1. Then the least common multiple of the denominators is found and multiplied through to ensure all coefficients are integers. \n",
    "\n",
    "5. Since the nullspace vector that SVD returns is not unique. If v is in the nullspace, then so is -v. The algorithm may give you one or the other. However, coefficients in chemical reactions have to be positive, thus, the sign is flipped if necessary. \n",
    "\n",
    "6. To ensure that the coefficients are in the lowest possible ratio, all coefficients are divided by their Greatest Common Divisor (GCD).\n",
    "\n",
    "5. Lastly, the results are validated: If no non-zero solution exists or if any coefficient is ≤ 0 an error ir raised.\n",
    "\n",
    "The function can be tested with the following reaction: \n",
    "\n",
    "`C3H8 + O2 → CO2 + H2O` -> this is entered in the function as reactans = `['C3H8', 'O2']` and products = `['CO2', 'H2O']` and the output will be the coefficients to balance the reaction: `[1, 5, 3, 4]`"
   ]
  },
  {
   "cell_type": "code",
   "execution_count": 17,
   "id": "705a42e5",
   "metadata": {},
   "outputs": [
    {
     "name": "stdout",
     "output_type": "stream",
     "text": [
      "Coefficients of reaction: C3H8 + O2 → CO2 + H2O: [1, 5, 3, 4]\n"
     ]
    }
   ],
   "source": [
    "def balance_reaction(reactants, products, tol=1e-10):\n",
    "    # Early impossibility: elements only on one side\n",
    "    rset, pset = _elements_by_side(reactants, products)\n",
    "    only_in_reactants = sorted(rset - pset)\n",
    "    only_in_products = sorted(pset - rset)\n",
    "    if only_in_reactants or only_in_products:\n",
    "        parts = []\n",
    "        if only_in_reactants:\n",
    "            parts.append(f\"present only in reactants: {', '.join(only_in_reactants)}\")\n",
    "        if only_in_products:\n",
    "            parts.append(f\"present only in products: {', '.join(only_in_products)}\")\n",
    "        raise ValueError(\"Reaction not possible with the chosen species because some elements are missing on one side (\"\n",
    "                         + \"; \".join(parts) + \").\")\n",
    "    \n",
    "    species = reactants + products\n",
    "    parsed = [parse_formula(f) for f in species]\n",
    "    elements = sorted({e for m in parsed for e in m.keys()})\n",
    "    \n",
    "    A = np.zeros((len(elements), len(species)), dtype=float)\n",
    "    for i, el in enumerate(elements):\n",
    "        for j, m in enumerate(parsed):\n",
    "            count = m.get(el, 0)\n",
    "            if j >= len(reactants):  # product side negative\n",
    "                count = -count\n",
    "            A[i, j] = count\n",
    "    \n",
    "    # SVD nullspace\n",
    "    U, S, Vt = np.linalg.svd(A)\n",
    "    v = Vt[-1, :]\n",
    "    v[np.abs(v) < tol] = 0.0\n",
    "    if np.allclose(v, 0, atol=tol):\n",
    "        raise RuntimeError(\"Nullspace vector is numerically zero; try different tolerance.\")\n",
    "    \n",
    "    # Normalize to minimal integers\n",
    "    nonzero = v[np.abs(v) > tol]\n",
    "    v_scaled = v / np.min(np.abs(nonzero))\n",
    "    fracs = [Fraction(float(x)).limit_denominator(1000) for x in v_scaled]\n",
    "    denoms = [f.denominator for f in fracs]\n",
    "    L = lcm_many(denoms)\n",
    "    ints = np.array([int(f.numerator * (L // f.denominator)) for f in fracs], dtype=int)\n",
    "    \n",
    "    # Flip sign to make most entries positive if needed\n",
    "    if np.sum(ints < 0) > np.sum(ints > 0):\n",
    "        ints *= -1\n",
    "    \n",
    "    # Reduce GCD\n",
    "    nonzero_ints = ints[ints != 0]\n",
    "    if len(nonzero_ints) == 0:\n",
    "        raise ValueError(\"Reaction not possible with the chosen species (no non-zero solution).\")\n",
    "    g = reduce(gcd, map(int, np.abs(nonzero_ints)))\n",
    "    if g > 1:\n",
    "        ints //= g\n",
    "    \n",
    "    # Feasibility: require all strictly positive coefficients for chosen species\n",
    "    if np.any(ints <= 0):\n",
    "        raise ValueError(\"Reaction not possible since products are not registered as products of the reactants.\")\n",
    "    \n",
    "    return ints.tolist()\n",
    "\n",
    "print(f\"Coefficients of reaction: C3H8 + O2 → CO2 + H2O: {balance_reaction([\"C3H8\", \"O2\"], [\"CO2\", \"H2O\"])}\")"
   ]
  },
  {
   "cell_type": "markdown",
   "id": "e0e2d5e2",
   "metadata": {},
   "source": [
    "Now lets try a reaction that will not work:\n",
    "\n",
    "`H2 ​+ O2 ​→ CO2​​` -> this reaction does not exist since there is an element in the products that doesnt exist in the reactants. "
   ]
  },
  {
   "cell_type": "code",
   "execution_count": 18,
   "id": "deb3b810",
   "metadata": {},
   "outputs": [
    {
     "ename": "ValueError",
     "evalue": "Reaction not possible with the chosen species because some elements are missing on one side (present only in reactants: H; present only in products: C).",
     "output_type": "error",
     "traceback": [
      "\u001b[0;31m---------------------------------------------------------------------------\u001b[0m",
      "\u001b[0;31mValueError\u001b[0m                                Traceback (most recent call last)",
      "Cell \u001b[0;32mIn[18], line 1\u001b[0m\n\u001b[0;32m----> 1\u001b[0m \u001b[38;5;28mprint\u001b[39m(\u001b[38;5;124mf\u001b[39m\u001b[38;5;124m\"\u001b[39m\u001b[38;5;124mCoefficients of reaction: H2 ​+ O2 ​→ CO2​: \u001b[39m\u001b[38;5;132;01m{\u001b[39;00mbalance_reaction([\u001b[38;5;124m\"\u001b[39m\u001b[38;5;124mH2\u001b[39m\u001b[38;5;124m\"\u001b[39m,\u001b[38;5;250m \u001b[39m\u001b[38;5;124m\"\u001b[39m\u001b[38;5;124mO2\u001b[39m\u001b[38;5;124m\"\u001b[39m],\u001b[38;5;250m \u001b[39m[\u001b[38;5;124m\"\u001b[39m\u001b[38;5;124mCO\u001b[39m\u001b[38;5;124m\"\u001b[39m])\u001b[38;5;132;01m}\u001b[39;00m\u001b[38;5;124m\"\u001b[39m)\n",
      "Cell \u001b[0;32mIn[17], line 12\u001b[0m, in \u001b[0;36mbalance_reaction\u001b[0;34m(reactants, products, tol)\u001b[0m\n\u001b[1;32m     10\u001b[0m     \u001b[38;5;28;01mif\u001b[39;00m only_in_products:\n\u001b[1;32m     11\u001b[0m         parts\u001b[38;5;241m.\u001b[39mappend(\u001b[38;5;124mf\u001b[39m\u001b[38;5;124m\"\u001b[39m\u001b[38;5;124mpresent only in products: \u001b[39m\u001b[38;5;132;01m{\u001b[39;00m\u001b[38;5;124m'\u001b[39m\u001b[38;5;124m, \u001b[39m\u001b[38;5;124m'\u001b[39m\u001b[38;5;241m.\u001b[39mjoin(only_in_products)\u001b[38;5;132;01m}\u001b[39;00m\u001b[38;5;124m\"\u001b[39m)\n\u001b[0;32m---> 12\u001b[0m     \u001b[38;5;28;01mraise\u001b[39;00m \u001b[38;5;167;01mValueError\u001b[39;00m(\u001b[38;5;124m\"\u001b[39m\u001b[38;5;124mReaction not possible with the chosen species because some elements are missing on one side (\u001b[39m\u001b[38;5;124m\"\u001b[39m\n\u001b[1;32m     13\u001b[0m                      \u001b[38;5;241m+\u001b[39m \u001b[38;5;124m\"\u001b[39m\u001b[38;5;124m; \u001b[39m\u001b[38;5;124m\"\u001b[39m\u001b[38;5;241m.\u001b[39mjoin(parts) \u001b[38;5;241m+\u001b[39m \u001b[38;5;124m\"\u001b[39m\u001b[38;5;124m).\u001b[39m\u001b[38;5;124m\"\u001b[39m)\n\u001b[1;32m     15\u001b[0m species \u001b[38;5;241m=\u001b[39m reactants \u001b[38;5;241m+\u001b[39m products\n\u001b[1;32m     16\u001b[0m parsed \u001b[38;5;241m=\u001b[39m [parse_formula(f) \u001b[38;5;28;01mfor\u001b[39;00m f \u001b[38;5;129;01min\u001b[39;00m species]\n",
      "\u001b[0;31mValueError\u001b[0m: Reaction not possible with the chosen species because some elements are missing on one side (present only in reactants: H; present only in products: C)."
     ]
    }
   ],
   "source": [
    "print(f\"Coefficients of reaction: H2 ​+ O2 ​→ CO2​: {balance_reaction([\"H2\", \"O2\"], [\"CO\"])}\")"
   ]
  },
  {
   "cell_type": "markdown",
   "id": "c22f3605",
   "metadata": {},
   "source": [
    "Now that we have the coefficients, it is convenient for the equation to come out in a readable format. Thus the function `format_equation` is created which prints a human-readable equation. Taking chemical reaction `C3H8 + O2 → CO2 + H2O` and `CHClF2 → C2F4 + HCl` as an example. "
   ]
  },
  {
   "cell_type": "code",
   "execution_count": 23,
   "id": "ca3a123b",
   "metadata": {},
   "outputs": [
    {
     "name": "stdout",
     "output_type": "stream",
     "text": [
      "C3H8 + 5O2 → CO2 + 5H2O\n",
      "2CHClF2 → 2C2F4 + HCl\n"
     ]
    }
   ],
   "source": [
    "def format_equation(reactants, products):\n",
    "    lhs = \" + \".join([f\"{c if c!=1 else ''}{r}\".strip() for c, r in zip(balance_reaction(reactants, products), reactants)])\n",
    "    rhs = \" + \".join([f\"{c if c!=1 else ''}{p}\".strip() for c, p in zip(balance_reaction(reactants, products), products)])\n",
    "    return f\"{lhs} → {rhs}\"\n",
    "\n",
    "print(format_equation([\"C3H8\", \"O2\"], [\"CO2\", \"H2O\"]))\n",
    "print(format_equation([\"CHClF2\"], [\"C2F4\", \"HCl\"]))"
   ]
  },
  {
   "cell_type": "markdown",
   "id": "11e85f3b",
   "metadata": {},
   "source": [
    "And again an example that would not work: `H2 ​+ O2 ​→ CO2​​`"
   ]
  },
  {
   "cell_type": "code",
   "execution_count": 24,
   "id": "b4b40327",
   "metadata": {},
   "outputs": [
    {
     "ename": "ValueError",
     "evalue": "Reaction not possible with the chosen species because some elements are missing on one side (present only in reactants: H; present only in products: C).",
     "output_type": "error",
     "traceback": [
      "\u001b[0;31m---------------------------------------------------------------------------\u001b[0m",
      "\u001b[0;31mValueError\u001b[0m                                Traceback (most recent call last)",
      "Cell \u001b[0;32mIn[24], line 1\u001b[0m\n\u001b[0;32m----> 1\u001b[0m \u001b[38;5;28mprint\u001b[39m(format_equation([\u001b[38;5;124m\"\u001b[39m\u001b[38;5;124mH2\u001b[39m\u001b[38;5;124m\"\u001b[39m, \u001b[38;5;124m\"\u001b[39m\u001b[38;5;124mO2\u001b[39m\u001b[38;5;124m\"\u001b[39m], [\u001b[38;5;124m\"\u001b[39m\u001b[38;5;124mCO2\u001b[39m\u001b[38;5;124m\"\u001b[39m]))\n",
      "Cell \u001b[0;32mIn[23], line 2\u001b[0m, in \u001b[0;36mformat_equation\u001b[0;34m(reactants, products)\u001b[0m\n\u001b[1;32m      1\u001b[0m \u001b[38;5;28;01mdef\u001b[39;00m \u001b[38;5;21mformat_equation\u001b[39m(reactants, products):\n\u001b[0;32m----> 2\u001b[0m     lhs \u001b[38;5;241m=\u001b[39m \u001b[38;5;124m\"\u001b[39m\u001b[38;5;124m + \u001b[39m\u001b[38;5;124m\"\u001b[39m\u001b[38;5;241m.\u001b[39mjoin([\u001b[38;5;124mf\u001b[39m\u001b[38;5;124m\"\u001b[39m\u001b[38;5;132;01m{\u001b[39;00mc\u001b[38;5;250m \u001b[39m\u001b[38;5;28;01mif\u001b[39;00m\u001b[38;5;250m \u001b[39mc\u001b[38;5;241m!=\u001b[39m\u001b[38;5;241m1\u001b[39m\u001b[38;5;250m \u001b[39m\u001b[38;5;28;01melse\u001b[39;00m\u001b[38;5;250m \u001b[39m\u001b[38;5;124m'\u001b[39m\u001b[38;5;124m'\u001b[39m\u001b[38;5;132;01m}\u001b[39;00m\u001b[38;5;132;01m{\u001b[39;00mr\u001b[38;5;132;01m}\u001b[39;00m\u001b[38;5;124m\"\u001b[39m\u001b[38;5;241m.\u001b[39mstrip() \u001b[38;5;28;01mfor\u001b[39;00m c, r \u001b[38;5;129;01min\u001b[39;00m \u001b[38;5;28mzip\u001b[39m(balance_reaction(reactants, products), reactants)])\n\u001b[1;32m      3\u001b[0m     rhs \u001b[38;5;241m=\u001b[39m \u001b[38;5;124m\"\u001b[39m\u001b[38;5;124m + \u001b[39m\u001b[38;5;124m\"\u001b[39m\u001b[38;5;241m.\u001b[39mjoin([\u001b[38;5;124mf\u001b[39m\u001b[38;5;124m\"\u001b[39m\u001b[38;5;132;01m{\u001b[39;00mc\u001b[38;5;250m \u001b[39m\u001b[38;5;28;01mif\u001b[39;00m\u001b[38;5;250m \u001b[39mc\u001b[38;5;241m!=\u001b[39m\u001b[38;5;241m1\u001b[39m\u001b[38;5;250m \u001b[39m\u001b[38;5;28;01melse\u001b[39;00m\u001b[38;5;250m \u001b[39m\u001b[38;5;124m'\u001b[39m\u001b[38;5;124m'\u001b[39m\u001b[38;5;132;01m}\u001b[39;00m\u001b[38;5;132;01m{\u001b[39;00mp\u001b[38;5;132;01m}\u001b[39;00m\u001b[38;5;124m\"\u001b[39m\u001b[38;5;241m.\u001b[39mstrip() \u001b[38;5;28;01mfor\u001b[39;00m c, p \u001b[38;5;129;01min\u001b[39;00m \u001b[38;5;28mzip\u001b[39m(balance_reaction(reactants, products), products)])\n\u001b[1;32m      4\u001b[0m     \u001b[38;5;28;01mreturn\u001b[39;00m \u001b[38;5;124mf\u001b[39m\u001b[38;5;124m\"\u001b[39m\u001b[38;5;132;01m{\u001b[39;00mlhs\u001b[38;5;132;01m}\u001b[39;00m\u001b[38;5;124m → \u001b[39m\u001b[38;5;132;01m{\u001b[39;00mrhs\u001b[38;5;132;01m}\u001b[39;00m\u001b[38;5;124m\"\u001b[39m\n",
      "Cell \u001b[0;32mIn[17], line 12\u001b[0m, in \u001b[0;36mbalance_reaction\u001b[0;34m(reactants, products, tol)\u001b[0m\n\u001b[1;32m     10\u001b[0m     \u001b[38;5;28;01mif\u001b[39;00m only_in_products:\n\u001b[1;32m     11\u001b[0m         parts\u001b[38;5;241m.\u001b[39mappend(\u001b[38;5;124mf\u001b[39m\u001b[38;5;124m\"\u001b[39m\u001b[38;5;124mpresent only in products: \u001b[39m\u001b[38;5;132;01m{\u001b[39;00m\u001b[38;5;124m'\u001b[39m\u001b[38;5;124m, \u001b[39m\u001b[38;5;124m'\u001b[39m\u001b[38;5;241m.\u001b[39mjoin(only_in_products)\u001b[38;5;132;01m}\u001b[39;00m\u001b[38;5;124m\"\u001b[39m)\n\u001b[0;32m---> 12\u001b[0m     \u001b[38;5;28;01mraise\u001b[39;00m \u001b[38;5;167;01mValueError\u001b[39;00m(\u001b[38;5;124m\"\u001b[39m\u001b[38;5;124mReaction not possible with the chosen species because some elements are missing on one side (\u001b[39m\u001b[38;5;124m\"\u001b[39m\n\u001b[1;32m     13\u001b[0m                      \u001b[38;5;241m+\u001b[39m \u001b[38;5;124m\"\u001b[39m\u001b[38;5;124m; \u001b[39m\u001b[38;5;124m\"\u001b[39m\u001b[38;5;241m.\u001b[39mjoin(parts) \u001b[38;5;241m+\u001b[39m \u001b[38;5;124m\"\u001b[39m\u001b[38;5;124m).\u001b[39m\u001b[38;5;124m\"\u001b[39m)\n\u001b[1;32m     15\u001b[0m species \u001b[38;5;241m=\u001b[39m reactants \u001b[38;5;241m+\u001b[39m products\n\u001b[1;32m     16\u001b[0m parsed \u001b[38;5;241m=\u001b[39m [parse_formula(f) \u001b[38;5;28;01mfor\u001b[39;00m f \u001b[38;5;129;01min\u001b[39;00m species]\n",
      "\u001b[0;31mValueError\u001b[0m: Reaction not possible with the chosen species because some elements are missing on one side (present only in reactants: H; present only in products: C)."
     ]
    }
   ],
   "source": [
    "print(format_equation([\"H2\", \"O2\"], [\"CO2\"]))"
   ]
  },
  {
   "cell_type": "markdown",
   "id": "e297dcd1",
   "metadata": {},
   "source": [
    "### 2. Mass Conservation Check \n",
    "\n",
    "- **Using the molecular mass calculator from Part A, compute the total mass of reactants and products with the coefficients found. Achieve this by writing a function which takes a dictionary of molecules and their coefficient and return a True or False.**\n",
    "\n",
    "- **Verify that the total mass is conserved. Print a message indicating whether the reaction is balanced.**"
   ]
  },
  {
   "cell_type": "markdown",
   "id": "69784709",
   "metadata": {},
   "source": [
    "First we are going to import the function isclose that checks whether two floating-point numbers a and b are “close enough” to each other, within a tolerance."
   ]
  },
  {
   "cell_type": "code",
   "execution_count": 31,
   "id": "c8e907bf",
   "metadata": {},
   "outputs": [],
   "source": [
    "from math import isclose"
   ]
  },
  {
   "cell_type": "markdown",
   "id": "e863ab99",
   "metadata": {},
   "source": [
    "The next step is to create a function that calculates the mass of a molecule taking the coefficient into account. This function will call the function `calculate_molecular_mass()` created in the third part of Part A and multiply the result by the coefficient. We apply it to the chemical reaction `H2O` to exemplify. Note that the input is the molecule and the coefficents in the format `{molecule: coefficient}` which corresponds to the output of the function `balance_reaction`."
   ]
  },
  {
   "cell_type": "code",
   "execution_count": 32,
   "id": "af07420b",
   "metadata": {},
   "outputs": [
    {
     "name": "stdout",
     "output_type": "stream",
     "text": [
      "mass of H2O:  36.03\n"
     ]
    }
   ],
   "source": [
    "def total_mass(species_coeffs: dict[str, int]) -> float:\n",
    "    return sum(coeff * calculate_molecular_mass(formula)\n",
    "               for formula, coeff in species_coeffs.items())\n",
    "\n",
    "print(\"mass of H2O: \", total_mass({\"H2O\": 2}))"
   ]
  },
  {
   "cell_type": "markdown",
   "id": "fff4395a",
   "metadata": {},
   "source": [
    "Another helpful function is one that translates a reaction to a list of reactants and products and their corresponding coefficients which will be easier to work with. To exemplify we will apply it to the reaction `C3H8 + 5O2 -> 3CO2 + 4H2O`. Originally, the molecules and their coefficients had to be input manually into the function that returns the boolean, but this is not a very intuitive code so we decided to create a function that does this automatically. "
   ]
  },
  {
   "cell_type": "code",
   "execution_count": 33,
   "id": "133e2392",
   "metadata": {},
   "outputs": [
    {
     "name": "stdout",
     "output_type": "stream",
     "text": [
      "({'C3H8': 1, 'O2': 5}, {'CO2': 3, 'H2O': 4})\n"
     ]
    }
   ],
   "source": [
    "def parse_reaction(reaction: str):\n",
    "    left, right = reaction.split(\"->\")\n",
    "\n",
    "    def parse_side(side: str):\n",
    "        species = {}\n",
    "        for term in side.split(\"+\"):\n",
    "            term = term.strip()\n",
    "            parts = term.split()\n",
    "            if len(parts) == 1:\n",
    "                coeff, formula = 1, parts[0]\n",
    "            else:\n",
    "                coeff, formula = int(parts[0]), parts[1]\n",
    "            species[formula] = coeff\n",
    "        return species\n",
    "\n",
    "    reactants = parse_side(left)\n",
    "    products = parse_side(right)\n",
    "    return reactants, products\n",
    "\n",
    "print(parse_reaction(\"C3H8 + 5 O2 -> 3 CO2 + 4 H2O\"))"
   ]
  },
  {
   "cell_type": "markdown",
   "id": "927e89de",
   "metadata": {},
   "source": [
    "Lastly we can create the `mass_conserved` functions, `parse_reaction` and `total_mass` returns the values of the masses of the products and reactants and a boolean value if the reaction is mass conserved. This can be exemplified with the reaction `C3H8 + 5 O2 -> 3 CO2 + 4 H2O`."
   ]
  },
  {
   "cell_type": "code",
   "execution_count": 34,
   "id": "4e95b637",
   "metadata": {},
   "outputs": [
    {
     "name": "stdout",
     "output_type": "stream",
     "text": [
      "Mass conserved  Reactants: 204.087000 u  |  Products: 204.087000 u\n",
      "True\n"
     ]
    }
   ],
   "source": [
    "def mass_conserved(reaction: str,\n",
    "                   atol: float = 1e-6,\n",
    "                   rtol: float = 1e-9) -> bool:\n",
    "\n",
    "    reactants, products = parse_reaction(reaction)\n",
    "\n",
    "    m_react = total_mass(reactants)\n",
    "    m_prod  = total_mass(products)\n",
    "\n",
    "    ok = isclose(m_react, m_prod, rel_tol=rtol, abs_tol=atol)\n",
    "\n",
    "    if ok:\n",
    "        print(f\"Mass conserved  Reactants: {m_react:.6f} u  |  Products: {m_prod:.6f} u\")\n",
    "    else:\n",
    "        diff = m_prod - m_react\n",
    "        print(f\"Mass NOT conserved  Reactants: {m_react:.6f} u  |  Products: {m_prod:.6f} u  \"\n",
    "              f\"(Δ = {diff:.6e} u)\")\n",
    "    return ok\n",
    "\n",
    "\n",
    "print(mass_conserved(\"C3H8 + 5 O2 -> 3 CO2 + 4 H2O\"))"
   ]
  },
  {
   "cell_type": "markdown",
   "id": "a80f85e5",
   "metadata": {},
   "source": [
    "Now lets try for an example that would not work like: `C3H8 + O2 -> 3 CO2 + 4 H2O` the same reaction as before but unbalanced."
   ]
  },
  {
   "cell_type": "code",
   "execution_count": 35,
   "id": "c757eb6d",
   "metadata": {},
   "outputs": [
    {
     "name": "stdout",
     "output_type": "stream",
     "text": [
      "Mass NOT conserved  Reactants: 76.095000 u  |  Products: 204.087000 u  (Δ = 1.279920e+02 u)\n",
      "False\n"
     ]
    }
   ],
   "source": [
    "print(mass_conserved(\"C3H8 + O2 -> 3 CO2 + 4 H2O\"))"
   ]
  },
  {
   "cell_type": "markdown",
   "id": "9a8dfaf8",
   "metadata": {},
   "source": [
    "\n",
    "# Part C - Simulation / Modeling\n",
    "\n",
    "### 1. Monte Carlo π estimation (intro exercise)\n",
    "\n",
    "**a. Write a function `estimate_pi(N)` that:**\n",
    "- **Shoots N random points uniformly inside a square of side 2 (x and y from -1 to 1).**  \n",
    "- **Counts how many points fall inside the unit circle (distance ≤ 1 from origin).**  \n",
    "- **Using that, calculate π.**  \n",
    "\n",
    "**Hint: The probability of a randomly placed point being in the circle equals the ratio of the areas.**\n",
    "\n",
    "**b. Plot the convergence of your estimate versus N to visualize accuracy improvement.**\n",
    "\n"
   ]
  },
  {
   "cell_type": "markdown",
   "id": "c1eca8a1",
   "metadata": {},
   "source": [
    "First, we import the necessary libraries:\n",
    "- NumPy: for random sampling and numerical work,\n",
    "- math: for constants,\n",
    "- Matplotlib: for plotting results.\n",
    "\n",
    "> Note: Since the Monte Carlo methods depend on randomness, the results may vary slightly on each run. "
   ]
  },
  {
   "cell_type": "code",
   "execution_count": 36,
   "id": "03c63970",
   "metadata": {},
   "outputs": [],
   "source": [
    "import numpy as np\n",
    "import math\n",
    "import matplotlib.pyplot as plt"
   ]
  },
  {
   "cell_type": "markdown",
   "id": "2c08302b",
   "metadata": {},
   "source": [
    "First, we develop a function to estimate π using the Monte Carlo method. The method consists in:  \n",
    "- Place random points uniformly in the square [-1,1] × [-1,1].\n",
    "- Count how many fall inside the unit circle (x² + y² ≤ 1).\n",
    "- The fraction inside approximates the ratio of the circle area to the square area.\n",
    "\n",
    "\n",
    "Since the square has an area of 4 (w × h, with w=h=2) and the circle has an area of π (πr² with r = 1), the fraction of points inside the circle approximates π/4. Thus, we can estimate π by multiplying this fraction by 4."
   ]
  },
  {
   "cell_type": "code",
   "execution_count": 37,
   "id": "e96dd33d",
   "metadata": {},
   "outputs": [],
   "source": [
    "\n",
    "# Function to estimate π using N random points in a square [-1,1] x [-1,1]\n",
    "def estimate_pi(N: int) -> float:\n",
    "    # Generate N random points\n",
    "    x = np.random.uniform(-1, 1, N)\n",
    "    y = np.random.uniform(-1, 1, N)\n",
    "    # Check which points fall inside the unit circle\n",
    "    inside_circle = (x**2 + y**2) <= 1\n",
    "    # Estimate π = 4 * (fraction of points inside)\n",
    "    return float(4 * np.mean(inside_circle))\n"
   ]
  },
  {
   "cell_type": "markdown",
   "id": "f45b4033",
   "metadata": {},
   "source": [
    "_________________________________________________________________________________________________________________________________________________________\n",
    "WRONG ATTEMPT: \n",
    "Using `for i in (-1, 1)`, clearly the answer will be much lower than the expected 3.14"
   ]
  },
  {
   "cell_type": "code",
   "execution_count": 43,
   "id": "6445464b",
   "metadata": {},
   "outputs": [
    {
     "name": "stdout",
     "output_type": "stream",
     "text": [
      "Estimate with N=10000: 0.0008\n"
     ]
    }
   ],
   "source": [
    "def bad_pi(N):\n",
    "    inside = 0\n",
    "    for i in (-1, 1):  # <-- this only loops twice, not N times\n",
    "        x = np.random.uniform(-1, 1)\n",
    "        y = np.random.uniform(-1, 1)\n",
    "        if x**2 + y**2 <= 1:\n",
    "            inside += 1\n",
    "    return 4 * inside / N\n",
    "\n",
    "print(\"Estimate with N=10000:\", bad_pi(10000))"
   ]
  },
  {
   "cell_type": "markdown",
   "id": "7a65b7f4",
   "metadata": {},
   "source": [
    "_________________________________________________________________________________________________________________________________________________________"
   ]
  },
  {
   "cell_type": "markdown",
   "id": "b6cab6ec",
   "metadata": {},
   "source": [
    "Example:  \n",
    "\n",
    "We try the estimator with `N = 10,000` random points.  \n",
    "The result should be close to π (≈ 3.14159), with some random variation.\n",
    "The higher N is, the closer the result should be to π since the random points are more likely to be distributed uniformly. This can be seen below with the example of N = 10,000. and N = 1, 000,000. Keep in mind pi to the nearest 8 decimal places is 3.14159265. If you run the following code multiple times you will see that even though the results vary slightly, at N = 1,000,000 the results are closer to pi."
   ]
  },
  {
   "cell_type": "code",
   "execution_count": 38,
   "id": "c1e36c46",
   "metadata": {},
   "outputs": [
    {
     "name": "stdout",
     "output_type": "stream",
     "text": [
      "Estimate with N=10000: 3.1476\n",
      "Estimate with N=1000000: 3.141832\n"
     ]
    }
   ],
   "source": [
    "\n",
    "# Example: compute π with 10,000 points\n",
    "print(\"Estimate with N=10000:\", estimate_pi(10000))\n",
    "\n",
    "# Example: compute π with 1, 000,000,  points\n",
    "print(\"Estimate with N=1000000:\", estimate_pi(1000000))\n"
   ]
  },
  {
   "cell_type": "markdown",
   "id": "b6ca168f",
   "metadata": {},
   "source": [
    "Convergence with Increasing N\n",
    "\n",
    "We compute estimates for values of N ranging from 10 up to 1,000,000 (logarithmically spaced).  \n",
    "This shows how accuracy improves as sample size grows."
   ]
  },
  {
   "cell_type": "code",
   "execution_count": 39,
   "id": "c4087cd0",
   "metadata": {},
   "outputs": [
    {
     "data": {
      "image/png": "[encoded data removed]",
      "text/plain": [
       "<Figure size 700x400 with 1 Axes>"
      ]
     },
     "metadata": {},
     "output_type": "display_data"
    }
   ],
   "source": [
    "\n",
    "# Plot convergence of π estimation\n",
    "Ns = np.unique(np.logspace(1, 6, num=200, dtype=int))  # 10 → 1,000,000\n",
    "estimates = [estimate_pi(N) for N in Ns]\n",
    "\n",
    "plt.figure(figsize=(7,4))\n",
    "plt.axhline(math.pi, color=\"red\", linestyle=\"--\", label=\"True π\")\n",
    "plt.plot(Ns, estimates, label=\"Estimate\", linewidth=1.5)\n",
    "plt.xscale(\"log\")\n",
    "plt.xlabel(\"N (number of random points)\")\n",
    "plt.ylabel(\"π estimate\")\n",
    "plt.title(\"Monte Carlo π Estimation\")\n",
    "plt.legend()\n",
    "plt.show()\n"
   ]
  },
  {
   "cell_type": "markdown",
   "id": "f33f145b",
   "metadata": {},
   "source": [
    "Reflection \n",
    "\n",
    "\n",
    "As can be seen in the above graph, for small N, the estimate fluctuates widely due to randomness. As N grows, the estimates tend to π and the error decreases at rate ~ 1/√N, so doubling accuracy requires ~4× more samples. Overall, the Monte Carlo is a simple but succesful way of estimating π."
   ]
  },
  {
   "cell_type": "markdown",
   "id": "60030505",
   "metadata": {},
   "source": [
    "\n",
    "### 2. Chemistry inspired Monte Carlo  \n",
    "\n",
    "**a. Simulate M random molecular collisions in a box.**\n",
    "\n",
    "**b. Assign random energies to each collision (e.g., uniform or normal distribution).**\n",
    "\n",
    "**c. Count how many collisions exceed a given threshold energy.**\n",
    "\n",
    "**d. Interpret the fraction as an estimate of reaction probability.**"
   ]
  },
  {
   "cell_type": "markdown",
   "id": "799beabb",
   "metadata": {},
   "source": [
    "We now estimate the probability that a molecular collision exceeds an **energy threshold**.\n",
    "\n",
    "Two energy distributions are considered:\n",
    "- Uniform(0,10): equal chance of any energy between 0 and 10.\n",
    "- Normal(mean=5, std=2): bell-shaped distribution around 5."
   ]
  },
  {
   "cell_type": "code",
   "execution_count": 51,
   "id": "c158560e",
   "metadata": {},
   "outputs": [],
   "source": [
    "\n",
    "# Function to estimate reaction probability\n",
    "def estimate_reaction_probability(M: int, threshold: float, distribution=\"uniform\") -> float:\n",
    "    if distribution == \"uniform\":\n",
    "        # Energies uniformly distributed between 0 and 10\n",
    "        energies = np.random.uniform(0, 10, M)\n",
    "    elif distribution == \"normal\":\n",
    "        # Energies normally distributed (mean=5, std=2)\n",
    "        energies = np.random.normal(loc=5, scale=2, size=M)\n",
    "    else:\n",
    "        raise ValueError(\"Unknown distribution type\")\n",
    "    \n",
    "    reactions = np.sum(energies >= threshold)  # count collisions above threshold\n",
    "    return float(reactions / M)\n"
   ]
  },
  {
   "cell_type": "markdown",
   "id": "4443bafc",
   "metadata": {},
   "source": [
    "_________________________________________________________________________________________________________________________________________________________\n",
    "WRONG ATTEMPT: \n",
    "Using `>` instead of `>=`, since the reaction requires at least that energy for the reaction to happen the energy itself should be included. Addionally, at first we used a counter and a `for` loop to count them although this is not a mistake our final function used a cleaner and simpler method. "
   ]
  },
  {
   "cell_type": "code",
   "execution_count": 52,
   "id": "d9da9495",
   "metadata": {},
   "outputs": [
    {
     "name": "stdout",
     "output_type": "stream",
     "text": [
      "Uniform distribtuion, M=100000: 0.39883\n"
     ]
    }
   ],
   "source": [
    "def bad_count(M: int, threshold: float, distribution=\"uniform\") -> float:\n",
    "    if distribution == \"uniform\":\n",
    "        energies = np.random.uniform(0, 10, M)\n",
    "    elif distribution == \"normal\":\n",
    "        energies = np.random.normal(loc=5, scale=2, size=M)\n",
    "    else:\n",
    "        raise ValueError(\"Unknown distribution type\")\n",
    "    \n",
    "    count = 0\n",
    "    for e in energies:\n",
    "        if e > threshold:\n",
    "            count += 1\n",
    "    return count/M \n",
    "\n",
    "print(\"Uniform distribtuion, M=100000:\", bad_count(100000, threshold=6, distribution=\"uniform\"))"
   ]
  },
  {
   "cell_type": "markdown",
   "id": "9733f29c",
   "metadata": {},
   "source": [
    "_________________________________________________________________________________________________________________________________________________________"
   ]
  },
  {
   "cell_type": "markdown",
   "id": "fac903d7",
   "metadata": {},
   "source": [
    "Example Estimates\n",
    "\n",
    "To visualise this, we compute reaction probability for `M = 100,000` samples under both unifrom and normal distributions."
   ]
  },
  {
   "cell_type": "code",
   "execution_count": 41,
   "id": "ef35db97",
   "metadata": {},
   "outputs": [
    {
     "name": "stdout",
     "output_type": "stream",
     "text": [
      "Uniform distribtuion, M=100000: 0.4016\n",
      "Normal distribution,  M=100000: 0.3086\n"
     ]
    }
   ],
   "source": [
    "\n",
    "# Example: simulate with large M\n",
    "print(\"Uniform distribtuion, M=100000:\", estimate_reaction_probability(100000, threshold=6, distribution=\"uniform\"))\n",
    "print(\"Normal distribution,  M=100000:\", estimate_reaction_probability(100000, threshold=6, distribution=\"normal\"))\n"
   ]
  },
  {
   "cell_type": "markdown",
   "id": "c599a4d2",
   "metadata": {},
   "source": [
    "The results make sense since for a uniform distribution, every energy between 0 and 10 is equally likely.  \n",
    "If the threshold is 6, then the fraction of values above 6 is just the length of the interval [6,10] which is 4 divided by the total interval [0,10]. So the probability is 4/10 = 0.4 (40%).  \n",
    "The Monte Carlo estimate with M=100,000 is very close to 0.4.  \n",
    "This means that in this model, about 40% of collisions have enough energy to cause a reaction.  \n",
    "\n",
    "For the normal distribution, the probability is bell shaped around the midpoint meaning the energies will cluster around 5. So we are looking at the fraction of samples that are above 6.  \n",
    "For a Normal(5,2), that probability is about 0.341.   \n",
    "The Monte Carlo estimate with M=100,000 should be close to this true value.  \n",
    "This means that in this model, around a third of collisions exceed the threshold, since most energies are clustered below 6.  "
   ]
  },
  {
   "cell_type": "code",
   "execution_count": 42,
   "id": "65f4f0d7",
   "metadata": {},
   "outputs": [
    {
     "data": {
      "image/png": "[encoded data removed]",
      "text/plain": [
       "<Figure size 700x400 with 1 Axes>"
      ]
     },
     "metadata": {},
     "output_type": "display_data"
    }
   ],
   "source": [
    "\n",
    "# Plot convergence of reaction probability\n",
    "Ms = np.unique(np.logspace(2, 5, num=200, dtype=int))  # 100 → 100,000\n",
    "estimates_uniform = [estimate_reaction_probability(M, threshold=6, distribution=\"uniform\") for M in Ms]\n",
    "estimates_normal  = [estimate_reaction_probability(M, threshold=6, distribution=\"normal\") for M in Ms]\n",
    "\n",
    "plt.figure(figsize=(7,4))\n",
    "plt.plot(Ms, estimates_uniform, label=\"Uniform distribution\", linewidth=1.5)\n",
    "plt.plot(Ms, estimates_normal, label=\"Normal distribution\", linewidth=1.5)\n",
    "plt.xscale(\"log\")\n",
    "plt.xlabel(\"M (number of collisions)\")\n",
    "plt.ylabel(\"Estimated reaction probability\")\n",
    "plt.title(\"Monte Carlo Simulation of Molecular Collisions\")\n",
    "plt.legend()\n",
    "plt.show()\n"
   ]
  },
  {
   "cell_type": "markdown",
   "id": "982a13b9",
   "metadata": {},
   "source": [
    "Reflection\n",
    "\n",
    "As can be seen, both distributions converge as M increases, but to different values. For Uniform(0,10) with threshold 6, the true probability is exactly 0.4. For the Normal(5,2) case, the probability is smaller (depends on the Gaussian tail). Monte Carlo reveals how distributional assumptions matter for predicting outcomes.\n",
    "\n",
    "Overall, we found that Montecarlo provides an estimates for which the accuracy improves with more samples. This can be a useful method if the true probability is hard to calculate. In both analysis, we saw that as the number of samples increases, the estimated values cnverge to the theoretical value indicating succesful experiments. Thus, we see a clear trade-off between accuracy and computational cost."
   ]
  }
 ],
 "metadata": {
  "kernelspec": {
   "display_name": "base",
   "language": "python",
   "name": "python3"
  },
  "language_info": {
   "codemirror_mode": {
    "name": "ipython",
    "version": 3
   },
   "file_extension": ".py",
   "mimetype": "text/x-python",
   "name": "python",
   "nbconvert_exporter": "python",
   "pygments_lexer": "ipython3",
   "version": "3.12.7"
  }
 },
 "nbformat": 4,
 "nbformat_minor": 5
}
